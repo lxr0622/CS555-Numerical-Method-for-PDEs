{
 "cells": [
  {
   "cell_type": "markdown",
   "metadata": {},
   "source": [
    "# Project template"
   ]
  },
  {
   "cell_type": "markdown",
   "metadata": {},
   "source": [
    "## Read in the mesh"
   ]
  },
  {
   "cell_type": "code",
   "execution_count": null,
   "metadata": {
    "collapsed": true
   },
   "outputs": [],
   "source": [
    "import numpy as np\n",
    "import matplotlib.pyplot as plt\n",
    "from mpl_toolkits.mplot3d import Axes3D\n",
    "import scipy.sparse as sparse\n",
    "import scipy.linalg as la\n",
    "import scipy.sparse.linalg as sla\n",
    "%matplotlib inline\n",
    "\n",
    "import gmsh\n",
    "mesh = gmsh.Mesh()\n",
    "mesh.read_msh('w1.msh')\n",
    "\n",
    "# Mesh |  ne   |  nv\n",
    "#  w1  |  255  |  557\n",
    "#  w2  |  1020 |  2134\n",
    "#  w3  |  4080 |  8348\n",
    "\n",
    "## Quadratic triangle elements\n",
    "E = mesh.Elmts[9][1]\n",
    "V = mesh.Verts[:,:2]\n",
    "\n",
    "ne = E.shape[0]\n",
    "nv = V.shape[0]\n",
    "X = V[:,0]\n",
    "Y = V[:,1]\n",
    "\n",
    "print(E.shape)\n",
    "print(V.shape)\n",
    "\n",
    "def checkorientation(V, E):\n",
    "    sgn = np.zeros((E.shape[0],))\n",
    "    for i in range(E.shape[0]):\n",
    "        xi = V[E[i, :3],0]\n",
    "        yi = V[E[i, :3],1]\n",
    "        A = np.zeros((3,3))\n",
    "        A[:,0] = 1.0\n",
    "        A[:,1] = xi\n",
    "        A[:,2] = yi\n",
    "        sgn[i] = np.linalg.det(A)\n",
    "    return sgn\n",
    "\n",
    "sgn = checkorientation(V, E)\n",
    "I = np.where(sgn<0)[0]\n",
    "if(I.size==ne or I.size==0):\n",
    "    print('all elements have consistent orientation')\n",
    "\n",
    "# plt.figure(figsize=(19,10))\n",
    "plt.figure(figsize=(8,5))\n",
    "plt.triplot(X,Y,E[:,:3])\n",
    "plt.plot(X,Y,'kx')\n",
    "# plt.tricontourf(X, Y, E[:,:3], (X-5)**2 + (Y-5)**2, 100)\n",
    "# plt.colorbar()\n",
    "plt.show()"
   ]
  },
  {
   "cell_type": "markdown",
   "metadata": {},
   "source": [
    "## Exact solution is provided here\n",
    "\n",
    "Pressure is not defined on all of the points in V."
   ]
  },
  {
   "cell_type": "code",
   "execution_count": null,
   "metadata": {
    "collapsed": true
   },
   "outputs": [],
   "source": [
    "def wan_exact(): # Wannier-Stokes\n",
    "    d = 2.\n",
    "    r = 1.\n",
    "    s = np.sqrt(d**2 - r**2)\n",
    "    gam = (s+d)/(d-s)\n",
    "    U = 4.\n",
    "    tmp = 1./np.log(gam)\n",
    "    A = -(U*d)* tmp\n",
    "    B = 2.*U*(d+s) * tmp\n",
    "    C = 2.*U*(d-s) * tmp\n",
    "    F = U * tmp\n",
    "    \n",
    "    from sympy import symbols, exp, log, lambdify, init_printing, diff, simplify\n",
    "    x,y,k1,k2,u,v=symbols('x y k1 k2 u v')\n",
    "    k1 = x**2 + (s+y)**2\n",
    "    k2 = x**2 + (s-y)**2\n",
    "    \n",
    "    # # maslanik, sani, gresho\n",
    "    u = U - F*log(k1/k2)\\\n",
    "          - 2*(A+F*y) *((s+y)+k1*(s-y)/k2) / k1\\\n",
    "          - B*((s+2*y)-2*y*((s+y)**2)/k1)/k1\\\n",
    "          - C*((s-2*y)+2*y*((s-y)**2)/k2)/k2\n",
    "\n",
    "    v = + 2*x*(A+F*y)*(k2-k1)/(k1*k2)\\\n",
    "        - 2*B*x*y*(s+y)/(k1*k1)\\\n",
    "        - 2*C*x*y*(s-y)/(k2*k2)\n",
    "        \n",
    "    p = - 4*B*x*(s+y)/(k1*k1)\\\n",
    "        - 4*C*x*(s-y)/(k2*k2)\\\n",
    "        - 16*F*s*x*y/(k1*k2)\n",
    "\n",
    "    ue = lambdify([x,y],u,'numpy')\n",
    "    ve = lambdify([x,y],v,'numpy')\n",
    "    pe = lambdify([x,y],p,'numpy')\n",
    "    return ue,ve,pe"
   ]
  },
  {
   "cell_type": "code",
   "execution_count": null,
   "metadata": {
    "collapsed": true,
    "scrolled": false
   },
   "outputs": [],
   "source": [
    "ue, ve, pe = wan_exact()\n",
    "uex = ue(X,Y)\n",
    "vex = ve(X,Y)\n",
    "\n",
    "fig = plt.figure(figsize=(12,12))\n",
    "import matplotlib.tri as tri\n",
    "triang = tri.Triangulation(X,Y)\n",
    "ax = fig.add_subplot(2,1,1)\n",
    "surf = ax.tripcolor(X, Y, uex, triangles=E[:,:3], cmap=plt.cm.viridis, linewidth=0.2)\n",
    "ax.tricontour(triang, uex, colors='k')\n",
    "ax.set_xlabel('X')\n",
    "ax.set_ylabel('Y')\n",
    "ax.set_title('u')\n",
    "fig.colorbar(surf)\n",
    "fig.tight_layout()\n",
    "ax = fig.add_subplot(2,1,2)\n",
    "surf = ax.tripcolor(X, Y, vex, triangles=E[:,:3], cmap=plt.cm.viridis, linewidth=0.2)\n",
    "ax.tricontour(triang, vex, colors='k')\n",
    "ax.set_xlabel('X')\n",
    "ax.set_ylabel('Y')\n",
    "ax.set_title('v')\n",
    "fig.colorbar(surf)\n",
    "fig.tight_layout()"
   ]
  },
  {
   "cell_type": "markdown",
   "metadata": {},
   "source": [
    "## Build your matrices"
   ]
  },
  {
   "cell_type": "code",
   "execution_count": null,
   "metadata": {
    "collapsed": true
   },
   "outputs": [],
   "source": [
    "def trigauss(n):\n",
    "    if (n == 1):\n",
    "        xw=np.array([0.33333333333333, 0.33333333333333, 1.00000000000000])\n",
    "    elif (n == 2):\n",
    "        xw=np.array([[0.16666666666667, 0.16666666666667, 0.33333333333333],\n",
    "                     [0.16666666666667, 0.66666666666667, 0.33333333333333],\n",
    "                     [0.66666666666667, 0.16666666666667, 0.33333333333333]])\n",
    "    elif (n == 3):\n",
    "        xw=np.array([[0.33333333333333, 0.33333333333333, -0.56250000000000],\n",
    "                     [0.20000000000000, 0.20000000000000, 0.52083333333333],\n",
    "                     [0.20000000000000, 0.60000000000000, 0.52083333333333],\n",
    "                     [0.60000000000000, 0.20000000000000, 0.52083333333333]])\n",
    "    elif (n == 4):\n",
    "        xw=np.array([[0.44594849091597, 0.44594849091597, 0.22338158967801],\n",
    "                     [0.44594849091597, 0.10810301816807, 0.22338158967801],\n",
    "                     [0.10810301816807, 0.44594849091597, 0.22338158967801],\n",
    "                     [0.09157621350977, 0.09157621350977, 0.10995174365532],\n",
    "                     [0.09157621350977, 0.81684757298046, 0.10995174365532],\n",
    "                     [0.81684757298046, 0.09157621350977, 0.10995174365532]])\n",
    "    elif (n == 5):\n",
    "        xw=np.array([[0.33333333333333, 0.33333333333333, 0.22500000000000],\n",
    "                     [0.47014206410511, 0.47014206410511, 0.13239415278851],\n",
    "                     [0.47014206410511, 0.05971587178977, 0.13239415278851],\n",
    "                     [0.05971587178977, 0.47014206410511, 0.13239415278851],\n",
    "                     [0.10128650732346, 0.10128650732346, 0.12593918054483],\n",
    "                     [0.10128650732346, 0.79742698535309, 0.12593918054483],\n",
    "                     [0.79742698535309, 0.10128650732346, 0.12593918054483]])\n",
    "    elif (n == 6):\n",
    "        xw=np.array([[0.24928674517091, 0.24928674517091, 0.11678627572638 ],\n",
    "                     [0.24928674517091, 0.50142650965818, 0.11678627572638 ],\n",
    "                     [0.50142650965818, 0.24928674517091, 0.11678627572638 ],\n",
    "                     [0.06308901449150, 0.06308901449150, 0.05084490637021 ],\n",
    "                     [0.06308901449150, 0.87382197101700, 0.05084490637021 ],\n",
    "                     [0.87382197101700, 0.06308901449150, 0.05084490637021 ],\n",
    "                     [0.31035245103378, 0.63650249912140, 0.08285107561837 ],\n",
    "                     [0.63650249912140, 0.05314504984482, 0.08285107561837 ],\n",
    "                     [0.05314504984482, 0.31035245103378, 0.08285107561837 ],\n",
    "                     [0.63650249912140, 0.31035245103378, 0.08285107561837 ],\n",
    "                     [0.31035245103378, 0.05314504984482, 0.08285107561837 ],\n",
    "                     [0.05314504984482, 0.63650249912140, 0.08285107561837]])\n",
    "    elif (n == 7):\n",
    "        xw=np.array([[0.33333333333333, 0.33333333333333, -0.14957004446768],\n",
    "                     [0.26034596607904, 0.26034596607904, 0.17561525743321 ],\n",
    "                     [0.26034596607904, 0.47930806784192, 0.17561525743321 ],\n",
    "                     [0.47930806784192, 0.26034596607904, 0.17561525743321 ],\n",
    "                     [0.06513010290222, 0.06513010290222, 0.05334723560884 ],\n",
    "                     [0.06513010290222, 0.86973979419557, 0.05334723560884 ],\n",
    "                     [0.86973979419557, 0.06513010290222, 0.05334723560884 ],\n",
    "                     [0.31286549600487, 0.63844418856981, 0.07711376089026 ],\n",
    "                     [0.63844418856981, 0.04869031542532, 0.07711376089026 ],\n",
    "                     [0.04869031542532, 0.31286549600487, 0.07711376089026 ],\n",
    "                     [0.63844418856981, 0.31286549600487, 0.07711376089026 ],\n",
    "                     [0.31286549600487, 0.04869031542532, 0.07711376089026 ],\n",
    "                     [0.04869031542532, 0.63844418856981, 0.07711376089026]])\n",
    "    elif (n >= 8):\n",
    "        if(n>8):\n",
    "            print('trigauss: Too high, taking n = 8')\n",
    "        xw=np.array([[0.33333333333333, 0.33333333333333, 0.14431560767779],\n",
    "                     [0.45929258829272, 0.45929258829272, 0.09509163426728],\n",
    "                     [0.45929258829272, 0.08141482341455, 0.09509163426728],\n",
    "                     [0.08141482341455, 0.45929258829272, 0.09509163426728],\n",
    "                     [0.17056930775176, 0.17056930775176, 0.10321737053472],\n",
    "                     [0.17056930775176, 0.65886138449648, 0.10321737053472],\n",
    "                     [0.65886138449648, 0.17056930775176, 0.10321737053472],\n",
    "                     [0.05054722831703, 0.05054722831703, 0.03245849762320],\n",
    "                     [0.05054722831703, 0.89890554336594, 0.03245849762320],\n",
    "                     [0.89890554336594, 0.05054722831703, 0.03245849762320],\n",
    "                     [0.26311282963464, 0.72849239295540, 0.02723031417443],\n",
    "                     [0.72849239295540, 0.00839477740996, 0.02723031417443],\n",
    "                     [0.00839477740996, 0.26311282963464, 0.02723031417443],\n",
    "                     [0.72849239295540, 0.26311282963464, 0.02723031417443],\n",
    "                     [0.26311282963464, 0.00839477740996, 0.02723031417443],\n",
    "                     [0.00839477740996, 0.72849239295540, 0.02723031417443]])\n",
    "\n",
    "    qx = xw[:,:2]\n",
    "    qw = xw[:,2]/2\n",
    "    return qx, qw"
   ]
  },
  {
   "cell_type": "code",
   "execution_count": null,
   "metadata": {
    "collapsed": true
   },
   "outputs": [],
   "source": []
  },
  {
   "cell_type": "markdown",
   "metadata": {},
   "source": [
    "## Apply boundary conditions\n",
    "\n",
    "There are two sets of Dirichlet boundaries:\n",
    "\n",
    " - the cylinder surface\n",
    " - the rectangle sides"
   ]
  },
  {
   "cell_type": "code",
   "execution_count": null,
   "metadata": {
    "collapsed": true
   },
   "outputs": [],
   "source": [
    "# Locations of the Wannier boundary \n",
    "tol = 1.e-12\n",
    "tol2 = 1.e-6\n",
    "Dflag1 = np.array((abs(np.power(X,2.)+np.power(Y-2.,2.)-1.) < tol))\n",
    "Dflag2 = np.logical_or.reduce((abs(X+6. ) < tol2,\n",
    "                               abs(X-12.) < tol2,\n",
    "                               abs(Y+0.)  < tol2,\n",
    "                               abs(Y-10.) < tol2))\n",
    "\n",
    "ID1 = np.where(Dflag1)[0]\n",
    "ID2 = np.where(Dflag2)[0]\n",
    "Dflag = np.logical_or(Dflag1,Dflag2)\n",
    "ID = np.where(Dflag)[0]\n",
    "IDc = np.where(Dflag==False)[0]\n",
    "\n",
    "print(ID.size,IDc.size)"
   ]
  },
  {
   "cell_type": "code",
   "execution_count": null,
   "metadata": {
    "collapsed": true
   },
   "outputs": [],
   "source": []
  },
  {
   "cell_type": "markdown",
   "metadata": {},
   "source": [
    "## Solve the system"
   ]
  },
  {
   "cell_type": "code",
   "execution_count": null,
   "metadata": {
    "collapsed": true
   },
   "outputs": [],
   "source": []
  },
  {
   "cell_type": "markdown",
   "metadata": {},
   "source": [
    "## Post-processing\n",
    "\n",
    "Plot solution, find convergence rate, etc."
   ]
  },
  {
   "cell_type": "code",
   "execution_count": null,
   "metadata": {
    "collapsed": true
   },
   "outputs": [],
   "source": []
  }
 ],
 "metadata": {
  "kernelspec": {
   "display_name": "Python 3",
   "language": "python",
   "name": "python3"
  },
  "language_info": {
   "codemirror_mode": {
    "name": "ipython",
    "version": 3
   },
   "file_extension": ".py",
   "mimetype": "text/x-python",
   "name": "python",
   "nbconvert_exporter": "python",
   "pygments_lexer": "ipython3",
   "version": "3.6.1"
  }
 },
 "nbformat": 4,
 "nbformat_minor": 1
}
